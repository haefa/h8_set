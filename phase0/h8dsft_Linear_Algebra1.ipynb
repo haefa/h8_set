{
 "cells": [
  {
   "cell_type": "markdown",
   "id": "20645f7e-93bb-46ee-8a36-9c21786c26b4",
   "metadata": {},
   "source": [
    "**FTDS NG-4**"
   ]
  },
  {
   "cell_type": "markdown",
   "id": "2698f89d-3c32-47ff-b901-a9efa928d7dc",
   "metadata": {},
   "source": [
    "Instruksi\n",
    "\n",
    "1. Buatlah vektor (17, 22, 19)\n",
    "2. Diberikan 3 buah vektor: A (17, 22, 19), B (10, 20, 11), dan C (5, 12, 9)\\\n",
    "   Hitunglah:\\\n",
    "   a. A+B\\\n",
    "   b. B-C\\\n",
    "   c. A dot C\\\n",
    "   d. A x B\\\n",
    "   e. norm A\\\n",
    "   f. sudut antara vektor A dan B\\\n",
    "3. Buatlah plot dari vector berikut ke dalam bidang 2D: u (2, 5), v (3, 1)"
   ]
  },
  {
   "cell_type": "code",
   "execution_count": 2,
   "id": "b2d6e5c0-f34b-4e27-a751-b6bc6e4c8af3",
   "metadata": {},
   "outputs": [
    {
     "name": "stdout",
     "output_type": "stream",
     "text": [
      "[17 22 19]\n"
     ]
    }
   ],
   "source": [
    "#Nomor 1\n",
    "\n",
    "import numpy as np\n",
    "\n",
    "vector_1 = np.array([17,22,19])\n",
    "print(vector_1)"
   ]
  },
  {
   "cell_type": "code",
   "execution_count": 3,
   "id": "a78b0d3e-37b9-4c69-8726-266de102f1c7",
   "metadata": {},
   "outputs": [
    {
     "name": "stdout",
     "output_type": "stream",
     "text": [
      "[27 42 30]\n"
     ]
    }
   ],
   "source": [
    "#Nomor 2\n",
    "vector_a = np.array([17, 22, 19])\n",
    "vector_b = np.array([10, 20, 11])\n",
    "vector_c = np.array([5, 12, 9])\n",
    "\n",
    "#Nomor 2 bagian A\n",
    "adding_vectors = vector_a + vector_b\n",
    "print(adding_vectors)"
   ]
  },
  {
   "cell_type": "code",
   "execution_count": 4,
   "id": "a2b7216d-0257-4024-97e8-674762b4870c",
   "metadata": {},
   "outputs": [
    {
     "name": "stdout",
     "output_type": "stream",
     "text": [
      "[5 8 2]\n"
     ]
    }
   ],
   "source": [
    "#Nomor 2 bagian B\n",
    "substracting_vectors = vector_b - vector_c\n",
    "print(substracting_vectors)"
   ]
  },
  {
   "cell_type": "code",
   "execution_count": 6,
   "id": "dc7c54c1-b265-4415-8d90-e2294e3ea5c6",
   "metadata": {},
   "outputs": [
    {
     "name": "stdout",
     "output_type": "stream",
     "text": [
      "520\n"
     ]
    }
   ],
   "source": [
    "#Nomor 2 bagian C\n",
    "dot_vectors = vector_a.dot(vector_c)\n",
    "print(dot_vectors)"
   ]
  },
  {
   "cell_type": "code",
   "execution_count": 7,
   "id": "9886fb1d-b9cc-46cc-b5cf-4071a21953df",
   "metadata": {},
   "outputs": [
    {
     "name": "stdout",
     "output_type": "stream",
     "text": [
      "[170 440 209]\n"
     ]
    }
   ],
   "source": [
    "#Nomor 2 bagian D\n",
    "multiply_vectors = vector_a * vector_b\n",
    "print(multiply_vectors)"
   ]
  },
  {
   "cell_type": "code",
   "execution_count": 8,
   "id": "3c367720-1887-44a1-a151-6d9e57577258",
   "metadata": {},
   "outputs": [
    {
     "name": "stdout",
     "output_type": "stream",
     "text": [
      "33.67491648096547\n"
     ]
    }
   ],
   "source": [
    "#Nomor 2 bagian E\n",
    "norm_a = np.linalg.norm(vector_a)\n",
    "print(norm_a)"
   ]
  },
  {
   "cell_type": "code",
   "execution_count": 15,
   "id": "643a05de-d4d7-4f3d-9723-7e218267b824",
   "metadata": {},
   "outputs": [
    {
     "name": "stdout",
     "output_type": "stream",
     "text": [
      "0.21971776576153962\n"
     ]
    }
   ],
   "source": [
    "#Nomor 2 bagian F\n",
    "\n",
    "import math\n",
    "\n",
    "def dotproduct(v1, v2):\n",
    "    return v1.dot(v2)\n",
    "\n",
    "def length(v):\n",
    "    return math.sqrt(dotproduct(v, v))\n",
    "\n",
    "def angle(v1, v2):\n",
    "    return math.acos(dotproduct(v1, v2) / (length(v1) * length(v2)))\n",
    "\n",
    "angle_between_vectors = angle(vector_a, vector_b)\n",
    "print(angle_between_vectors)"
   ]
  },
  {
   "cell_type": "code",
   "execution_count": 28,
   "id": "e1397be1-0aec-40e1-9b47-088049a4e1a8",
   "metadata": {},
   "outputs": [
    {
     "data": {
      "image/png": "[encoded data removed]",
      "text/plain": [
       "<Figure size 432x288 with 1 Axes>"
      ]
     },
     "metadata": {
      "needs_background": "light"
     },
     "output_type": "display_data"
    }
   ],
   "source": [
    "#Nomor 3\n",
    "data_vector = np.array([[2, 5], [3,1]])\n",
    "\n",
    "import matplotlib.pyplot as plt\n",
    "\n",
    "\n",
    "plt.scatter(data_vector[:, 0], data_vector[:, 1], cmap='hot')\n",
    "plt.show()"
   ]
  }
 ],
 "metadata": {
  "kernelspec": {
   "display_name": "Python 3 (ipykernel)",
   "language": "python",
   "name": "python3"
  },
  "language_info": {
   "codemirror_mode": {
    "name": "ipython",
    "version": 3
   },
   "file_extension": ".py",
   "mimetype": "text/x-python",
   "name": "python",
   "nbconvert_exporter": "python",
   "pygments_lexer": "ipython3",
   "version": "3.7.13"
  }
 },
 "nbformat": 4,
 "nbformat_minor": 5
}
