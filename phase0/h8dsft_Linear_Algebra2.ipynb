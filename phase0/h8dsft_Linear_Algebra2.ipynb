{
 "cells": [
  {
   "cell_type": "markdown",
   "id": "72aac6b5-fad1-4d7a-a726-a3d7d53d1ec1",
   "metadata": {},
   "source": [
    "**FTDS NG-5**"
   ]
  },
  {
   "cell_type": "markdown",
   "id": "cc8e20b4-e73a-4418-82c4-23a1ce225574",
   "metadata": {},
   "source": [
    "Instruksi\n",
    "\n",
    "1. Buatlah Tensor sesuai perintah\n",
    "2. Lakukan perkalian terhadap matriks sesuai perintah\n",
    "3. Lakukan:\\\n",
    "   a. Transponse\\\n",
    "   b. Hitung determinan\\\n",
    "   c. Inverse\\\n",
    "   terhadap matriks sesuai perintah"
   ]
  },
  {
   "cell_type": "code",
   "execution_count": 2,
   "id": "117835a8-09b8-44b6-827a-b5a8958c5c01",
   "metadata": {},
   "outputs": [
    {
     "name": "stdout",
     "output_type": "stream",
     "text": [
      "(2, 2, 2, 2)\n",
      "[[[[23 50]\n",
      "   [ 7 12]]\n",
      "\n",
      "  [[57 67]\n",
      "   [99 43]]]\n",
      "\n",
      "\n",
      " [[[75 21]\n",
      "   [57 12]]\n",
      "\n",
      "  [[87 26]\n",
      "   [18 84]]]]\n"
     ]
    }
   ],
   "source": [
    "#Nomor 1\n",
    "\n",
    "import numpy as np\n",
    "\n",
    "tensor_1 = np.array([\n",
    "                [[[23, 50], [7, 12]], [[57, 67], [99, 43]]],\n",
    "                [[[75, 21], [57, 12]], [[87, 26], [18, 84]]]\n",
    "            ])\n",
    "print(tensor_1.shape)\n",
    "print(tensor_1)"
   ]
  },
  {
   "cell_type": "code",
   "execution_count": 4,
   "id": "74716147-515e-4ceb-9e00-e84b82dff6ea",
   "metadata": {},
   "outputs": [
    {
     "name": "stdout",
     "output_type": "stream",
     "text": [
      "[[ 23  50  19]\n",
      " [  7  12 109]\n",
      " [ 57  67  98]]\n",
      "[[17]\n",
      " [22]\n",
      " [19]]\n",
      "******\n",
      "[[ 391  850  323]\n",
      " [ 154  264 2398]\n",
      " [1083 1273 1862]]\n"
     ]
    }
   ],
   "source": [
    "#Nomor 2\n",
    "\n",
    "matrix_a = np.array([\n",
    "                [23, 50, 19],\n",
    "                [7, 12, 109],\n",
    "                [57, 67, 98]\n",
    "            ])\n",
    "matrix_b = np.array([[17], [22], [19]])\n",
    "\n",
    "multiply_matrix = matrix_a * matrix_b\n",
    "\n",
    "print(matrix_a)\n",
    "print(matrix_b)\n",
    "print(\"******\")\n",
    "print(multiply_matrix)"
   ]
  },
  {
   "cell_type": "code",
   "execution_count": 6,
   "id": "afb8fd6e-27b3-402f-99f6-11609ffb87c4",
   "metadata": {},
   "outputs": [
    {
     "name": "stdout",
     "output_type": "stream",
     "text": [
      "[[ 23  50  19]\n",
      " [  7  12 109]\n",
      " [ 57  67  98]]\n",
      "[[ 23   7  57]\n",
      " [ 50  12  67]\n",
      " [ 19 109  98]]\n"
     ]
    }
   ],
   "source": [
    "#Nomor 3 bagian A\n",
    "\n",
    "matrix_a_transpose = matrix_a.transpose()\n",
    "\n",
    "print(matrix_a)\n",
    "print(matrix_a_transpose)"
   ]
  },
  {
   "cell_type": "code",
   "execution_count": 7,
   "id": "68001ab2-c8b0-4ee7-bc1e-d4b9a89bf0cc",
   "metadata": {},
   "outputs": [
    {
     "name": "stdout",
     "output_type": "stream",
     "text": [
      "[[ 23  50  19]\n",
      " [  7  12 109]\n",
      " [ 57  67  98]]\n",
      "131344.0000000002\n"
     ]
    }
   ],
   "source": [
    "#Nomor 3 bagian B\n",
    "\n",
    "matrix_a_determinant = np.linalg.det(matrix_a)\n",
    "\n",
    "print(matrix_a)\n",
    "print(matrix_a_determinant)"
   ]
  },
  {
   "cell_type": "code",
   "execution_count": 8,
   "id": "d9b94d9b-9c21-4ecc-8b5b-19111a637d9f",
   "metadata": {},
   "outputs": [
    {
     "name": "stdout",
     "output_type": "stream",
     "text": [
      "[[ 23  50  19]\n",
      " [  7  12 109]\n",
      " [ 57  67  98]]\n",
      "[[-0.0466485  -0.02761451  0.03975819]\n",
      " [ 0.04208034  0.00891552 -0.01807467]\n",
      " [-0.00163692  0.0099662  -0.00056341]]\n"
     ]
    }
   ],
   "source": [
    "#Nomor 3 bagian C\n",
    "\n",
    "matrix_a_inverse = np.linalg.inv(matrix_a)\n",
    "\n",
    "print(matrix_a)\n",
    "print(matrix_a_inverse)"
   ]
  }
 ],
 "metadata": {
  "kernelspec": {
   "display_name": "Python 3 (ipykernel)",
   "language": "python",
   "name": "python3"
  },
  "language_info": {
   "codemirror_mode": {
    "name": "ipython",
    "version": 3
   },
   "file_extension": ".py",
   "mimetype": "text/x-python",
   "name": "python",
   "nbconvert_exporter": "python",
   "pygments_lexer": "ipython3",
   "version": "3.7.13"
  }
 },
 "nbformat": 4,
 "nbformat_minor": 5
}
