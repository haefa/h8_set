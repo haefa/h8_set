{
 "cells": [
  {
   "cell_type": "markdown",
   "id": "eca723b3-d5a4-4ddf-8274-ff81f4b0af88",
   "metadata": {},
   "source": [
    "**FTDS NG-6**"
   ]
  },
  {
   "cell_type": "markdown",
   "id": "2f512e44-c3e5-4398-9136-81548205eb62",
   "metadata": {},
   "source": [
    "Instruksi\n",
    "\n",
    "1. Apakah [1 3] adalah eigenvector dari [[1 -1] [6 4]]? Jika iya, berapakah eigenvalue nya?"
   ]
  },
  {
   "cell_type": "code",
   "execution_count": 11,
   "id": "97c6906f-2848-48c5-94be-3515bd075256",
   "metadata": {},
   "outputs": [
    {
     "name": "stdout",
     "output_type": "stream",
     "text": [
      "[[-0.23145502+0.29880715j -0.23145502-0.29880715j]\n",
      " [ 0.9258201 +0.j          0.9258201 -0.j        ]]\n",
      "[2.5+1.93649167j 2.5-1.93649167j]\n"
     ]
    }
   ],
   "source": [
    "from numpy import array\n",
    "from numpy.linalg import eig\n",
    "\n",
    "A = array([[1, -1], [6, 4]])\n",
    "values, vectors = eig(A)\n",
    "\n",
    "print(vectors)\n",
    "print(values)"
   ]
  },
  {
   "cell_type": "markdown",
   "id": "0106ac94-a4c4-4b44-bf4e-f6cff365af58",
   "metadata": {},
   "source": [
    "Dari hasil eigenvector di atas, tidak ada [1 3], sehingga [1, 3] bukanlah eigenvector dari matriks A"
   ]
  },
  {
   "cell_type": "code",
   "execution_count": 7,
   "id": "002103b9-e7e6-4792-9eaf-da937fe5747d",
   "metadata": {},
   "outputs": [],
   "source": [
    "B = array([1, 3])"
   ]
  },
  {
   "cell_type": "code",
   "execution_count": 13,
   "id": "66b62225-e81f-4644-a04a-9fd1e43680b0",
   "metadata": {},
   "outputs": [
    {
     "data": {
      "text/plain": [
       "array([1, 3])"
      ]
     },
     "execution_count": 13,
     "metadata": {},
     "output_type": "execute_result"
    }
   ],
   "source": [
    "B"
   ]
  },
  {
   "cell_type": "code",
   "execution_count": 14,
   "id": "72828c18-d8ff-4060-8d40-22a49c1d3d6e",
   "metadata": {},
   "outputs": [
    {
     "data": {
      "text/plain": [
       "array([[ 1, -1],\n",
       "       [ 6,  4]])"
      ]
     },
     "execution_count": 14,
     "metadata": {},
     "output_type": "execute_result"
    }
   ],
   "source": [
    "A"
   ]
  },
  {
   "cell_type": "code",
   "execution_count": 8,
   "id": "ae5ed8a3-b7d3-4d20-975c-985aa32bf812",
   "metadata": {},
   "outputs": [
    {
     "data": {
      "text/plain": [
       "array([-2, 18])"
      ]
     },
     "execution_count": 8,
     "metadata": {},
     "output_type": "execute_result"
    }
   ],
   "source": [
    "A.dot(B)"
   ]
  },
  {
   "cell_type": "markdown",
   "id": "e44f8c9a-07ab-42e9-b631-0d9c076f4ba4",
   "metadata": {},
   "source": [
    "Hasil di atas adalah perkalian dot (dot product) dari A dan B. Dapat dilihat jelas bahwa hasil dot product dari A dan B bukan merupakan bagian (hasil perkalian) dari [1, 6] maupun [-1, 4]."
   ]
  }
 ],
 "metadata": {
  "kernelspec": {
   "display_name": "Python 3 (ipykernel)",
   "language": "python",
   "name": "python3"
  },
  "language_info": {
   "codemirror_mode": {
    "name": "ipython",
    "version": 3
   },
   "file_extension": ".py",
   "mimetype": "text/x-python",
   "name": "python",
   "nbconvert_exporter": "python",
   "pygments_lexer": "ipython3",
   "version": "3.7.13"
  }
 },
 "nbformat": 4,
 "nbformat_minor": 5
}
