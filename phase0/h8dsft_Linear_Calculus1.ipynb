{
 "cells": [
  {
   "cell_type": "markdown",
   "id": "eca723b3-d5a4-4ddf-8274-ff81f4b0af88",
   "metadata": {},
   "source": [
    "**FTDS NG-7**"
   ]
  },
  {
   "cell_type": "markdown",
   "id": "2f512e44-c3e5-4398-9136-81548205eb62",
   "metadata": {},
   "source": [
    "Instruksi\n",
    "\n",
    "1. Carilah turunan dari fungsi yg ditentukan"
   ]
  },
  {
   "cell_type": "code",
   "execution_count": 15,
   "id": "97c6906f-2848-48c5-94be-3515bd075256",
   "metadata": {},
   "outputs": [],
   "source": [
    "import sympy as sy"
   ]
  },
  {
   "cell_type": "code",
   "execution_count": 16,
   "id": "b9085d71-d32f-498b-8c4a-e5c674a9a6fc",
   "metadata": {},
   "outputs": [],
   "source": [
    "x = sy.Symbol('x')"
   ]
  },
  {
   "cell_type": "code",
   "execution_count": 17,
   "id": "c6331484-262f-4637-8039-081ac5b65898",
   "metadata": {},
   "outputs": [],
   "source": [
    "y1 = x**2 + 2*x + 1\n",
    "y2 = 4*x**3 - 3*x**2 + 2*x - 1"
   ]
  },
  {
   "cell_type": "code",
   "execution_count": 18,
   "id": "021241a3-8567-49f7-8725-16211e67eda6",
   "metadata": {},
   "outputs": [
    {
     "data": {
      "text/latex": [
       "$\\displaystyle 2 x + 2$"
      ],
      "text/plain": [
       "2*x + 2"
      ]
     },
     "execution_count": 18,
     "metadata": {},
     "output_type": "execute_result"
    }
   ],
   "source": [
    "diff_y1 = y1.diff(x)\n",
    "diff_y1"
   ]
  },
  {
   "cell_type": "code",
   "execution_count": 19,
   "id": "e261b472-64b0-42cc-8ebf-4c3b3c67092b",
   "metadata": {},
   "outputs": [
    {
     "data": {
      "text/latex": [
       "$\\displaystyle 12 x^{2} - 6 x + 2$"
      ],
      "text/plain": [
       "12*x**2 - 6*x + 2"
      ]
     },
     "execution_count": 19,
     "metadata": {},
     "output_type": "execute_result"
    }
   ],
   "source": [
    "diff_y2 = y2.diff(x)\n",
    "diff_y2"
   ]
  }
 ],
 "metadata": {
  "kernelspec": {
   "display_name": "Python 3 (ipykernel)",
   "language": "python",
   "name": "python3"
  },
  "language_info": {
   "codemirror_mode": {
    "name": "ipython",
    "version": 3
   },
   "file_extension": ".py",
   "mimetype": "text/x-python",
   "name": "python",
   "nbconvert_exporter": "python",
   "pygments_lexer": "ipython3",
   "version": "3.7.13"
  }
 },
 "nbformat": 4,
 "nbformat_minor": 5
}
