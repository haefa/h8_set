{
 "cells": [
  {
   "cell_type": "markdown",
   "id": "7ab4a6e8-07e1-4266-a79d-0e782f6fa290",
   "metadata": {},
   "source": [
    "**FTDS NG-3**"
   ]
  },
  {
   "cell_type": "markdown",
   "id": "9cf6d700-e6d4-4b1c-8f89-73bbc182944b",
   "metadata": {},
   "source": [
    "Instruksi\n",
    "\n",
    "1. Buatlah sebuah fungsi konversi suhu dari kelvin ke celcius, dan celcius ke kelvin\n",
    "2. Buatlah sebuah fungsi konversi suhu ke fahrenheit. \n",
    "   Tambahkan parameter untuk memastikan bahwa argumen yg dimasukkan adalah celcius atau kelvin.\n",
    "   Panggil fungsi pertama jika diperlukan.\n",
    "3. Buatlah sebuah fungsi yang dapat mengkonversi suhu dari fahrenheit. \n",
    "   Berikan argumen untuk memastikan bahwa outputnya adalah celcius atau kelvin.\n",
    "4. Berikan dokumentasi pada setiap baris kode yang ditulis,\n",
    "\n"
   ]
  },
  {
   "cell_type": "code",
   "execution_count": 5,
   "id": "92872dff-60c3-4d75-af91-1318ff9ec72e",
   "metadata": {},
   "outputs": [],
   "source": [
    "# This function is used to convert from Kelvin to Celcius, and from Celcius to Kelvin\n",
    "def convertCK(temp, firstTemp, secondTemp):\n",
    "    \"This function returns a convertedTemp based on the first and second temp (C to K, or K to C)\"\n",
    "    #initialize a variable called convertedTemp\n",
    "    convertedTemp = 0\n",
    "    #if the first temp is a celcius\n",
    "    if (firstTemp == 'C'):\n",
    "        #calculate the formula for converting the temp from C to K\n",
    "        convertedTemp = temp + 273.15\n",
    "    #else if the first temp is a kelvin\n",
    "    elif (firstTemp == 'K'):\n",
    "         #calculate the formula for converting the temp from K to C\n",
    "        convertedTemp = temp - 273.15\n",
    "    #return the converted temp\n",
    "    return convertedTemp"
   ]
  },
  {
   "cell_type": "code",
   "execution_count": 36,
   "id": "f0ce4fcc-b7c4-49f2-9879-e460aa5fe4d9",
   "metadata": {},
   "outputs": [],
   "source": [
    "# This function is used to convert a temp to Fahrenheit (from Kelvin or Celcius)\n",
    "def convertToF(temp, fromTemp):\n",
    "    \"This function returns a convertedTemp in Fahrenheit (from K or C)\"\n",
    "    #making sure the fromTemp is either K or C\n",
    "    if (fromTemp == 'K' or fromTemp == 'C'):\n",
    "        #initialize a variable called convertedTemp\n",
    "        convertedTemp = 0\n",
    "        #set the temp to temp before variable\n",
    "        tempBefore = temp\n",
    "\n",
    "        #if the temp before is Kelvin\n",
    "        if (fromTemp == 'K'):\n",
    "            #convert to Celcius first\n",
    "            tempBefore = convertCK(temp, 'K', 'C')\n",
    "\n",
    "        #calculate the formula for converting the temp from C to F\n",
    "        convertedTemp = (tempBefore * 9/5) + 32\n",
    "\n",
    "        return convertedTemp\n",
    "    #if the fromTemp param is not K or not C\n",
    "    else:\n",
    "        print(\"Temp input must be in K or C\")"
   ]
  },
  {
   "cell_type": "code",
   "execution_count": 35,
   "id": "44b4ee6b-120e-4e33-ac94-18d91896550f",
   "metadata": {},
   "outputs": [],
   "source": [
    "# This function is used to convert a temp from Fahrenheit (to Kelvin or Celcius)\n",
    "def convertFromF(temp, toTemp):\n",
    "    \"This function returns a convertedTemp from Fahrenheit (to K or C)\"\n",
    "    #making sure the toTemp is either K or C\n",
    "    if (toTemp == 'K' or toTemp == 'C'):\n",
    "        #initialize a variable called convertedTemp\n",
    "        convertedTemp = 0\n",
    "\n",
    "        #convert the temp to Celcius\n",
    "        convertedTemp = (temp - 32) * 5/9\n",
    "\n",
    "        #if the target temp is Kelvin\n",
    "        if (toTemp == 'K'):\n",
    "            #call convertCK to convert the convertedTemp (in C) to K\n",
    "            convertedTemp = convertCK(convertedTemp, 'C', 'K')\n",
    "\n",
    "        return convertedTemp\n",
    "    #if the toTemp is not K or not C\n",
    "    else:\n",
    "        print(\"Temp input must be in K or C\")\n",
    "        return"
   ]
  },
  {
   "cell_type": "code",
   "execution_count": 31,
   "id": "e954c88d-2d38-4e5d-86cf-e5c4d69e003d",
   "metadata": {},
   "outputs": [
    {
     "name": "stdout",
     "output_type": "stream",
     "text": [
      "Temp input must be in K or C\n"
     ]
    }
   ],
   "source": [
    "convertFromF(0, 'T')"
   ]
  },
  {
   "cell_type": "code",
   "execution_count": 34,
   "id": "f25e7452-a225-4d5c-a139-eedc35f8e8c3",
   "metadata": {},
   "outputs": [
    {
     "data": {
      "text/plain": [
       "32.0"
      ]
     },
     "execution_count": 34,
     "metadata": {},
     "output_type": "execute_result"
    }
   ],
   "source": [
    "convertToF(0, 'C')"
   ]
  },
  {
   "cell_type": "code",
   "execution_count": 4,
   "id": "b027083f-10f2-4ceb-8a89-6de82e61cda5",
   "metadata": {},
   "outputs": [
    {
     "data": {
      "text/plain": [
       "273.15"
      ]
     },
     "execution_count": 4,
     "metadata": {},
     "output_type": "execute_result"
    }
   ],
   "source": [
    "convertCK(0,'C','K')"
   ]
  }
 ],
 "metadata": {
  "kernelspec": {
   "display_name": "Python 3 (ipykernel)",
   "language": "python",
   "name": "python3"
  },
  "language_info": {
   "codemirror_mode": {
    "name": "ipython",
    "version": 3
   },
   "file_extension": ".py",
   "mimetype": "text/x-python",
   "name": "python",
   "nbconvert_exporter": "python",
   "pygments_lexer": "ipython3",
   "version": "3.7.13"
  }
 },
 "nbformat": 4,
 "nbformat_minor": 5
}
