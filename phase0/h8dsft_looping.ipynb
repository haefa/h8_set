{
 "cells": [
  {
   "cell_type": "markdown",
   "id": "1924a88d-ea73-41f8-a7fc-ff7d9392ead3",
   "metadata": {},
   "source": [
    "**FTDS NG-2**"
   ]
  },
  {
   "cell_type": "markdown",
   "id": "4964a10d-1189-49b7-a5c3-e02e9a72fd72",
   "metadata": {},
   "source": [
    "Instruksi\n",
    "\n",
    "1. Buatlah sebuah list dengan value yg ditentukan\n",
    "2. Loop dan print semua angka genap dari list angka di atas dengan urutan yg sama\n",
    "3. Jangan mencetak angka apapun yang muncul setelah angka 918\n",
    "4. Tampilkan pesan \"Done\" setelah looping berakhir\n"
   ]
  },
  {
   "cell_type": "code",
   "execution_count": 1,
   "id": "122e3d83-96fa-41d7-b53b-ad59c9765528",
   "metadata": {},
   "outputs": [],
   "source": [
    "numbers=[951,402,984,651,360,69,408,319,601,485,980,507,725,547,544,615,83,165,141,501,263,617,865,575,219,390,984,592,236,105,942,941,386,462,47,418,907,344,236,375,823,566,597,978,328,615,953,345,399,162,758,219,918,237,412,566,826,248,866,950,626,949]"
   ]
  },
  {
   "cell_type": "code",
   "execution_count": 2,
   "id": "13fc442d-d5c2-4074-87fe-aa767a006fec",
   "metadata": {},
   "outputs": [
    {
     "name": "stdout",
     "output_type": "stream",
     "text": [
      "402\n",
      "984\n",
      "360\n",
      "408\n",
      "980\n",
      "544\n",
      "390\n",
      "984\n",
      "592\n",
      "236\n",
      "942\n",
      "386\n",
      "462\n",
      "418\n",
      "344\n",
      "236\n",
      "566\n",
      "978\n",
      "328\n",
      "162\n",
      "758\n",
      "918\n",
      "Done\n"
     ]
    }
   ],
   "source": [
    "for num in numbers:\n",
    "    if (num % 2 == 0):\n",
    "        print(num)\n",
    "    if (num == 918):\n",
    "        print('Done')\n",
    "        break"
   ]
  }
 ],
 "metadata": {
  "kernelspec": {
   "display_name": "Python 3 (ipykernel)",
   "language": "python",
   "name": "python3"
  },
  "language_info": {
   "codemirror_mode": {
    "name": "ipython",
    "version": 3
   },
   "file_extension": ".py",
   "mimetype": "text/x-python",
   "name": "python",
   "nbconvert_exporter": "python",
   "pygments_lexer": "ipython3",
   "version": "3.7.13"
  }
 },
 "nbformat": 4,
 "nbformat_minor": 5
}
